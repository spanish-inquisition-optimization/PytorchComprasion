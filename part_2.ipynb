{
 "cells": [
  {
   "cell_type": "code",
   "execution_count": 3,
   "metadata": {
    "collapsed": true,
    "ExecuteTime": {
     "start_time": "2023-06-28T18:44:06.333913Z",
     "end_time": "2023-06-28T18:44:06.386927Z"
    }
   },
   "outputs": [
    {
     "name": "stdout",
     "output_type": "stream",
     "text": [
      "The autoreload extension is already loaded. To reload it, use:\n",
      "  %reload_ext autoreload\n"
     ]
    }
   ],
   "source": [
    "%load_ext autoreload\n",
    "%autoreload 2\n",
    "\n",
    "from core.optimizer_evaluator import *\n",
    "from core.abstract_analzyer import *"
   ]
  },
  {
   "cell_type": "markdown",
   "source": [
    "# Сравнение `scipy.optimize.minimize` и `scipy.optimize.least_squares` с нашими методами"
   ],
   "metadata": {
    "collapsed": false
   }
  },
  {
   "cell_type": "code",
   "execution_count": 5,
   "outputs": [
    {
     "name": "stdout",
     "output_type": "stream",
     "text": [
      "=========== Testing infinite ===========\n",
      "Got result TL at problem=1\n",
      "Got result TL at problem=2\n",
      "=========== Testing error ===========\n",
      "Exception occurred: \n",
      "Got result × at problem=1\n",
      "Exception occurred: \n",
      "Got result × at problem=2\n",
      "=========== Testing constantly ===========\n",
      "Got result Hello at problem=1\n",
      "Got result Hello at problem=2\n",
      "+-----------+------------+---------+--------------+\n",
      "|   problem | infinite   | error   | constantly   |\n",
      "+===========+============+=========+==============+\n",
      "|         1 | TL         | ×       | Hello        |\n",
      "+-----------+------------+---------+--------------+\n",
      "|         2 | TL         | ×       | Hello        |\n",
      "+-----------+------------+---------+--------------+\n"
     ]
    }
   ],
   "source": [
    "def loop(_):\n",
    "    while True:\n",
    "        pass\n",
    "infinite = Algorithm(\"infinite\", loop)\n",
    "def err(_):\n",
    "    raise Exception\n",
    "error = Algorithm(\"error\", err)\n",
    "constantly = Algorithm(\"constantly\", lambda _: \"Hello\")\n",
    "\n",
    "compare_optimization_algorithms_in_table([infinite, error, constantly], [Problem(\"1\", lambda x: x, lambda x: 1, None), Problem(\"2\", lambda x: x, lambda x: 1, None)], 1)"
   ],
   "metadata": {
    "collapsed": false,
    "ExecuteTime": {
     "start_time": "2023-06-28T18:45:25.026830Z",
     "end_time": "2023-06-28T18:45:27.201640Z"
    }
   }
  },
  {
   "cell_type": "code",
   "execution_count": null,
   "outputs": [],
   "source": [],
   "metadata": {
    "collapsed": false
   }
  }
 ],
 "metadata": {
  "kernelspec": {
   "display_name": "Python 3",
   "language": "python",
   "name": "python3"
  },
  "language_info": {
   "codemirror_mode": {
    "name": "ipython",
    "version": 2
   },
   "file_extension": ".py",
   "mimetype": "text/x-python",
   "name": "python",
   "nbconvert_exporter": "python",
   "pygments_lexer": "ipython2",
   "version": "2.7.6"
  }
 },
 "nbformat": 4,
 "nbformat_minor": 0
}
