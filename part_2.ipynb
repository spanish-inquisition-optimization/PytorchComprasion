{
 "cells": [
  {
   "cell_type": "code",
   "execution_count": 6,
   "metadata": {
    "collapsed": true,
    "ExecuteTime": {
     "start_time": "2023-06-29T11:46:44.122729Z",
     "end_time": "2023-06-29T11:46:44.177740Z"
    }
   },
   "outputs": [
    {
     "name": "stdout",
     "output_type": "stream",
     "text": [
      "The autoreload extension is already loaded. To reload it, use:\n",
      "  %reload_ext autoreload\n"
     ]
    }
   ],
   "source": [
    "import scipy\n",
    "from scipy.optimize import OptimizeResult\n",
    "%load_ext autoreload\n",
    "%autoreload 2\n",
    "\n",
    "from core.optimizer_evaluator import *\n",
    "from core.abstract_analzyer import *\n",
    "import scipy"
   ]
  },
  {
   "cell_type": "markdown",
   "source": [
    "# Сравнение `scipy.optimize.minimize` и `scipy.optimize.least_squares` с нашими методами"
   ],
   "metadata": {
    "collapsed": false
   }
  },
  {
   "cell_type": "code",
   "execution_count": 2,
   "outputs": [
    {
     "name": "stdout",
     "output_type": "stream",
     "text": [
      "=========== Testing infinite ===========\n",
      "Got result TL at problem=1\n",
      "Got result TL at problem=2\n",
      "=========== Testing error ===========\n",
      "Exception occurred: \n",
      "Got result × at problem=1\n",
      "Exception occurred: \n",
      "Got result × at problem=2\n",
      "=========== Testing constantly ===========\n",
      "Got result Hello at problem=1\n",
      "Got result Hello at problem=2\n",
      "+-----------+------------+---------+--------------+\n",
      "|   problem | infinite   | error   | constantly   |\n",
      "+===========+============+=========+==============+\n",
      "|         1 | TL         | ×       | Hello        |\n",
      "+-----------+------------+---------+--------------+\n",
      "|         2 | TL         | ×       | Hello        |\n",
      "+-----------+------------+---------+--------------+\n"
     ]
    }
   ],
   "source": [
    "def loop(_):\n",
    "    while True:\n",
    "        pass\n",
    "infinite = Algorithm(\"infinite\", loop)\n",
    "def err(_):\n",
    "    raise Exception\n",
    "error = Algorithm(\"error\", err)\n",
    "constantly = Algorithm(\"constantly\", lambda _: \"Hello\")\n",
    "\n",
    "compare_optimization_algorithms_in_table([infinite, error, constantly], [Problem(\"1\", lambda x: x, [], lambda x: 1, None), Problem(\"2\", lambda x: x, [], lambda x: 1, None)], 1)"
   ],
   "metadata": {
    "collapsed": false,
    "ExecuteTime": {
     "start_time": "2023-06-29T11:26:36.608528Z",
     "end_time": "2023-06-29T11:26:39.525518Z"
    }
   }
  },
  {
   "cell_type": "code",
   "execution_count": 4,
   "outputs": [],
   "source": [
    "from scipy.optimize import HessianUpdateStrategy\n",
    "\n",
    "\n",
    "def scipy_optimize_with_solver(solver_name: str, result_extractor, **kwargs):\n",
    "    def solve(problem: Problem):\n",
    "        opt_res = scipy.optimize.minimize(\n",
    "            problem.function,\n",
    "            problem.x0,\n",
    "            method=solver_name,\n",
    "            jac=problem.gradient,\n",
    "            hess = problem.hessian,\n",
    "            **kwargs\n",
    "        )\n",
    "        return result_extractor(opt_res)\n",
    "\n",
    "    return Algorithm(solver_name, solve)"
   ],
   "metadata": {
    "collapsed": false,
    "ExecuteTime": {
     "start_time": "2023-06-29T11:43:57.005513Z",
     "end_time": "2023-06-29T11:43:57.069236Z"
    }
   }
  },
  {
   "cell_type": "code",
   "execution_count": 7,
   "outputs": [],
   "source": [
    "def point_number_extractor(opt_res: OptimizeResult):\n",
    "    return opt_res.nit"
   ],
   "metadata": {
    "collapsed": false,
    "ExecuteTime": {
     "start_time": "2023-06-29T11:46:46.408357Z",
     "end_time": "2023-06-29T11:46:46.478373Z"
    }
   }
  },
  {
   "cell_type": "code",
   "execution_count": null,
   "outputs": [],
   "source": [],
   "metadata": {
    "collapsed": false
   }
  }
 ],
 "metadata": {
  "kernelspec": {
   "display_name": "Python 3",
   "language": "python",
   "name": "python3"
  },
  "language_info": {
   "codemirror_mode": {
    "name": "ipython",
    "version": 2
   },
   "file_extension": ".py",
   "mimetype": "text/x-python",
   "name": "python",
   "nbconvert_exporter": "python",
   "pygments_lexer": "ipython2",
   "version": "2.7.6"
  }
 },
 "nbformat": 4,
 "nbformat_minor": 0
}
